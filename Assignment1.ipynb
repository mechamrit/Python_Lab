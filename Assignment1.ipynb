{
  "nbformat": 4,
  "nbformat_minor": 0,
  "metadata": {
    "colab": {
      "name": "Untitled4.ipynb",
      "provenance": [],
      "authorship_tag": "ABX9TyMbhIZH4HpCoOP7l09BZsqu",
      "include_colab_link": true
    },
    "kernelspec": {
      "name": "python3",
      "display_name": "Python 3"
    },
    "language_info": {
      "name": "python"
    }
  },
  "cells": [
    {
      "cell_type": "markdown",
      "metadata": {
        "id": "view-in-github",
        "colab_type": "text"
      },
      "source": [
        "<a href=\"https://colab.research.google.com/github/mechamrit/Python_Lab/blob/main/Assignment1.ipynb\" target=\"_parent\"><img src=\"https://colab.research.google.com/assets/colab-badge.svg\" alt=\"Open In Colab\"/></a>"
      ]
    },
    {
      "cell_type": "code",
      "metadata": {
        "colab": {
          "base_uri": "https://localhost:8080/"
        },
        "id": "p8D52DCPjDHU",
        "outputId": "ee537b3b-3713-40f0-ce4b-b5ac094039ed"
      },
      "source": [
        "import datetime\n",
        "## Question 1\n",
        "def printName():\n",
        "  name = input(\"Enter Your Name\\t\")\n",
        "  age = int(input(\"Enter You Age\\t\"))\n",
        "  number = int(input(\"Enter the Number of times you want to print Message \\t\"))\n",
        "  age_100 = (datetime.datetime.now().year) + (100-age)\n",
        "  print(\"Hello! \"+name+ \", and you will be of 100 years in \"+ str(age_100)+\"\\n\")\n",
        "\n",
        "  print(\"Printing Multiple copies \\n\")\n",
        "  for i in range(number):\n",
        "    print(\"Hello! \"+name+ \", and you will be of 100 years in \"+ str(age_100)+\"\\n\")\n",
        "  \n",
        "\n",
        "printName()\n"
      ],
      "execution_count": 47,
      "outputs": [
        {
          "output_type": "stream",
          "text": [
            "Enter Your Name\tAmritpal Singh\n",
            "Enter You Age\t21\n",
            "Enter the Number of times you want to print Message \t10\n",
            "Hello! Amritpal Singh, and you will be of 100 years in 2100\n",
            "\n",
            "Printing Multiple copies \n",
            "\n",
            "Hello! Amritpal Singh, and you will be of 100 years in 2100\n",
            "\n",
            "Hello! Amritpal Singh, and you will be of 100 years in 2100\n",
            "\n",
            "Hello! Amritpal Singh, and you will be of 100 years in 2100\n",
            "\n",
            "Hello! Amritpal Singh, and you will be of 100 years in 2100\n",
            "\n",
            "Hello! Amritpal Singh, and you will be of 100 years in 2100\n",
            "\n",
            "Hello! Amritpal Singh, and you will be of 100 years in 2100\n",
            "\n",
            "Hello! Amritpal Singh, and you will be of 100 years in 2100\n",
            "\n",
            "Hello! Amritpal Singh, and you will be of 100 years in 2100\n",
            "\n",
            "Hello! Amritpal Singh, and you will be of 100 years in 2100\n",
            "\n",
            "Hello! Amritpal Singh, and you will be of 100 years in 2100\n",
            "\n"
          ],
          "name": "stdout"
        }
      ]
    },
    {
      "cell_type": "code",
      "metadata": {
        "colab": {
          "base_uri": "https://localhost:8080/"
        },
        "id": "IyScb3fxkT4z",
        "outputId": "9810d68c-eb2f-4246-da3d-b026225ae7bf"
      },
      "source": [
        "## Question 2\n",
        "def printele(lst):\n",
        "  # Printing Elements Less than 5\n",
        "  new_lst = []\n",
        "  for i in lst:\n",
        "    if i<5: \n",
        "      print(i)\n",
        "      ##1. Appending in List\n",
        "      new_lst.append(i)\n",
        "  print(\"New List is {}\".format(new_lst))\n",
        "\n",
        "  ##2. Appending in one line\n",
        "  new_lst2 = [x for x in lst if x<5]\n",
        "  print(\"New List in one line is{}\".format(new_lst2))\n",
        "\n",
        "  ##3. Asking user and responding accordingly\n",
        "  number = int(input(\"Enter the number to find ele smaller than the number\"))\n",
        "  new_lst3 = [x for x in lst if x<number]\n",
        "  print(\"Elements smaller than{} are {}\".format(number, new_lst3))\n",
        "\n",
        "\n",
        "\n",
        "a = [1, 1, 2, 3, 5, 8, 13, 21, 34, 55, 89]\n",
        "printele(a)\n"
      ],
      "execution_count": 48,
      "outputs": [
        {
          "output_type": "stream",
          "text": [
            "1\n",
            "1\n",
            "2\n",
            "3\n",
            "New List is [1, 1, 2, 3]\n",
            "New List in one line is[1, 1, 2, 3]\n",
            "Enter the number to find ele smaller than the number30\n",
            "Elements smaller than30 are [1, 1, 2, 3, 5, 8, 13, 21]\n"
          ],
          "name": "stdout"
        }
      ]
    },
    {
      "cell_type": "code",
      "metadata": {
        "colab": {
          "base_uri": "https://localhost:8080/"
        },
        "id": "9fRVo84vmU-9",
        "outputId": "80fac468-2a43-44e6-8b50-ce0756b24eda"
      },
      "source": [
        "## Question 3 Fibonacci series\n",
        "\n",
        "def fibo(n):\n",
        "   if n <= 1:\n",
        "       return n\n",
        "   else:\n",
        "       return(recur_fibo(n-1) + recur_fibo(n-2))\n",
        "\n",
        "nterms = int(input(\"Enter the number of numbers for seq.\"))\n",
        "print(\"Fibonacci sequence:\")\n",
        "for i in range(nterms):\n",
        "  print(fibo(i))"
      ],
      "execution_count": 50,
      "outputs": [
        {
          "output_type": "stream",
          "text": [
            "Enter the number of numbers for seq.10\n",
            "Fibonacci sequence:\n",
            "0\n",
            "1\n",
            "1\n",
            "2\n",
            "3\n",
            "5\n",
            "8\n",
            "13\n",
            "21\n",
            "34\n"
          ],
          "name": "stdout"
        }
      ]
    },
    {
      "cell_type": "code",
      "metadata": {
        "colab": {
          "base_uri": "https://localhost:8080/"
        },
        "id": "7GzsWq_W29d5",
        "outputId": "dd21fb78-97b9-43a7-c1a2-797c5faa9c73"
      },
      "source": [
        "## Question 4\n",
        "def lst_unique(lst):\n",
        "  unique = []\n",
        "  for l in lst:\n",
        "    if l not in unique:\n",
        "      unique.append(l)\n",
        "  for x in unique:\n",
        "    print(x)\n",
        "\n",
        "def using_set(lst):\n",
        "  list_set = set(lst)\n",
        "  unique_list = list(list_set)\n",
        "  for x in unique_list:\n",
        "    print(x)\n",
        "\n",
        "a = [1, 1, 2, 3, 5, 8, 13, 21, 34, 55, 89, 21, 89]\n",
        "print(\"Without using Sets\")\n",
        "lst_unique(a)\n",
        "\n"
      ],
      "execution_count": 55,
      "outputs": [
        {
          "output_type": "stream",
          "text": [
            "Without using Sets\n",
            "1\n",
            "2\n",
            "3\n",
            "5\n",
            "8\n",
            "13\n",
            "21\n",
            "34\n",
            "55\n",
            "89\n"
          ],
          "name": "stdout"
        }
      ]
    },
    {
      "cell_type": "code",
      "metadata": {
        "colab": {
          "base_uri": "https://localhost:8080/"
        },
        "id": "67TgiwWK6pw9",
        "outputId": "badcf2f4-bc79-4074-b009-fcad60433d08"
      },
      "source": [
        "print(\"Using Sets\")\n",
        "using_set(a)"
      ],
      "execution_count": 56,
      "outputs": [
        {
          "output_type": "stream",
          "text": [
            "Using Sets\n",
            "1\n",
            "2\n",
            "3\n",
            "34\n",
            "5\n",
            "8\n",
            "13\n",
            "21\n",
            "55\n",
            "89\n"
          ],
          "name": "stdout"
        }
      ]
    },
    {
      "cell_type": "code",
      "metadata": {
        "colab": {
          "base_uri": "https://localhost:8080/"
        },
        "id": "r4pA1M__7BJh",
        "outputId": "44493403-0e6d-45ea-9fde-4daadd101f09"
      },
      "source": [
        "## Question 5\n",
        "def prime_check():\n",
        "  num = int(input(\"Enter Number you want to check \\t\"))\n",
        "  flag = 1\n",
        "  for i in range(2, int(num/2)):\n",
        "    if(num%i == 0):\n",
        "      flag = 0\n",
        "      break\n",
        "  if(flag==0):\n",
        "    print(\"Number is not Prime\")\n",
        "  else:\n",
        "    print(\"Number is Prime\")\n",
        "\n",
        "prime_check()\n",
        "    "
      ],
      "execution_count": 46,
      "outputs": [
        {
          "output_type": "stream",
          "text": [
            "Enter Number you want to check \t13\n",
            "Number is Prime\n"
          ],
          "name": "stdout"
        }
      ]
    },
    {
      "cell_type": "code",
      "metadata": {
        "colab": {
          "base_uri": "https://localhost:8080/"
        },
        "id": "rUQmA6UN8e3w",
        "outputId": "5e10b3fd-db34-484a-f576-fd3ba8407ee3"
      },
      "source": [
        "prime_check()"
      ],
      "execution_count": 57,
      "outputs": [
        {
          "output_type": "stream",
          "text": [
            "Enter Number you want to check \t10\n",
            "Number is not Prime\n"
          ],
          "name": "stdout"
        }
      ]
    },
    {
      "cell_type": "code",
      "metadata": {
        "id": "Npfx0onMDPw6"
      },
      "source": [
        ""
      ],
      "execution_count": null,
      "outputs": []
    }
  ]
}